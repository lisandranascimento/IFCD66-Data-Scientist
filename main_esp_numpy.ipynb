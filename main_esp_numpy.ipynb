{
 "cells": [
  {
   "cell_type": "code",
   "execution_count": 1,
   "id": "3c311a7f",
   "metadata": {},
   "outputs": [],
   "source": [
    "#1. Importa el paquete NUMPY bajo el nombre np.\n",
    "\n",
    "import numpy as np\n"
   ]
  },
  {
   "cell_type": "code",
   "execution_count": 2,
   "id": "4e97e4b3",
   "metadata": {},
   "outputs": [
    {
     "name": "stdout",
     "output_type": "stream",
     "text": [
      "Versión de NumPy: 1.23.5\n",
      "\n",
      "Configuración de NumPy:\n",
      "blas_armpl_info:\n",
      "  NOT AVAILABLE\n",
      "blas_mkl_info:\n",
      "    libraries = ['mkl_rt']\n",
      "    library_dirs = ['C:/Users/lisan/anaconda3\\\\Library\\\\lib']\n",
      "    define_macros = [('SCIPY_MKL_H', None), ('HAVE_CBLAS', None)]\n",
      "    include_dirs = ['C:/Users/lisan/anaconda3\\\\Library\\\\include']\n",
      "blas_opt_info:\n",
      "    libraries = ['mkl_rt']\n",
      "    library_dirs = ['C:/Users/lisan/anaconda3\\\\Library\\\\lib']\n",
      "    define_macros = [('SCIPY_MKL_H', None), ('HAVE_CBLAS', None)]\n",
      "    include_dirs = ['C:/Users/lisan/anaconda3\\\\Library\\\\include']\n",
      "lapack_armpl_info:\n",
      "  NOT AVAILABLE\n",
      "lapack_mkl_info:\n",
      "    libraries = ['mkl_rt']\n",
      "    library_dirs = ['C:/Users/lisan/anaconda3\\\\Library\\\\lib']\n",
      "    define_macros = [('SCIPY_MKL_H', None), ('HAVE_CBLAS', None)]\n",
      "    include_dirs = ['C:/Users/lisan/anaconda3\\\\Library\\\\include']\n",
      "lapack_opt_info:\n",
      "    libraries = ['mkl_rt']\n",
      "    library_dirs = ['C:/Users/lisan/anaconda3\\\\Library\\\\lib']\n",
      "    define_macros = [('SCIPY_MKL_H', None), ('HAVE_CBLAS', None)]\n",
      "    include_dirs = ['C:/Users/lisan/anaconda3\\\\Library\\\\include']\n",
      "Supported SIMD extensions in this NumPy install:\n",
      "    baseline = SSE,SSE2,SSE3\n",
      "    found = SSSE3,SSE41,POPCNT,SSE42,AVX,F16C,FMA3,AVX2\n",
      "    not found = AVX512F,AVX512CD,AVX512_SKX,AVX512_CLX,AVX512_CNL\n",
      "None\n"
     ]
    }
   ],
   "source": [
    "#2. Imprime la versión de NUMPY y la configuración.\n",
    "\n",
    "# Imprimir la versión de NumPy\n",
    "print(\"Versión de NumPy:\", np.__version__)\n",
    "\n",
    "# Imprimir la configuración de NumPy\n",
    "print(\"\\nConfiguración de NumPy:\")\n",
    "print(np.show_config())"
   ]
  },
  {
   "cell_type": "code",
   "execution_count": 3,
   "id": "5fbd8537",
   "metadata": {},
   "outputs": [],
   "source": [
    "#3. Genera un array tridimensional de 2x3x5 con valores aleatorios. Asigna el array a la variable \"a\"\n",
    "# Desafío: hay al menos tres maneras fáciles que usan numpy para generar arrays aleatorios. ¿Cuántas formas puedes encontrar?\n",
    "\n",
    "#[tu código aquí]\n",
    "a = np.random.random((2,3,5))"
   ]
  },
  {
   "cell_type": "code",
   "execution_count": 4,
   "id": "ce854e66",
   "metadata": {},
   "outputs": [],
   "source": [
    "a = np.random.rand(2, 3, 5)"
   ]
  },
  {
   "cell_type": "code",
   "execution_count": 5,
   "id": "ac20f420",
   "metadata": {},
   "outputs": [],
   "source": [
    "a = np.random.randn(2, 3, 5)"
   ]
  },
  {
   "cell_type": "code",
   "execution_count": 6,
   "id": "9fb2e347",
   "metadata": {},
   "outputs": [
    {
     "data": {
      "text/plain": [
       "array([[[ 0.21395334, -0.34925026, -0.30087112,  0.09288076,\n",
       "          1.4987684 ],\n",
       "        [ 0.77808134,  0.39428254,  0.9495224 , -0.81511023,\n",
       "         -1.8999916 ],\n",
       "        [ 1.10508414, -1.77624784, -1.1024902 ,  1.79578769,\n",
       "          0.65222096]],\n",
       "\n",
       "       [[ 0.82040041,  0.02374171,  1.51051392,  0.4210838 ,\n",
       "          0.98899246],\n",
       "        [-1.468839  ,  0.75880714, -0.70533263,  0.80477429,\n",
       "         -0.04879635],\n",
       "        [-0.80322378,  0.52293103, -0.35686364, -0.55658169,\n",
       "         -1.14239843]]])"
      ]
     },
     "execution_count": 6,
     "metadata": {},
     "output_type": "execute_result"
    }
   ],
   "source": [
    "#4. Imprime a.\n",
    "a"
   ]
  },
  {
   "cell_type": "code",
   "execution_count": 7,
   "id": "0766cec8",
   "metadata": {},
   "outputs": [],
   "source": [
    "#5. Crea un array tridimensional de 5x2x3 con todos los valores igual a 1.\n",
    "#Asigna el array a la variable \"b\"\n",
    "b = np.ones((5,2,3))"
   ]
  },
  {
   "cell_type": "code",
   "execution_count": 8,
   "id": "ec55e3dd",
   "metadata": {},
   "outputs": [
    {
     "data": {
      "text/plain": [
       "array([[[1., 1., 1.],\n",
       "        [1., 1., 1.]],\n",
       "\n",
       "       [[1., 1., 1.],\n",
       "        [1., 1., 1.]],\n",
       "\n",
       "       [[1., 1., 1.],\n",
       "        [1., 1., 1.]],\n",
       "\n",
       "       [[1., 1., 1.],\n",
       "        [1., 1., 1.]],\n",
       "\n",
       "       [[1., 1., 1.],\n",
       "        [1., 1., 1.]]])"
      ]
     },
     "execution_count": 8,
     "metadata": {},
     "output_type": "execute_result"
    }
   ],
   "source": [
    "#6. Imprime b.\n",
    "b"
   ]
  },
  {
   "cell_type": "code",
   "execution_count": 9,
   "id": "bd500afc",
   "metadata": {},
   "outputs": [
    {
     "name": "stdout",
     "output_type": "stream",
     "text": [
      "No, los arrays tienen diferente tamaño.Lo demonstramos con la función shape.\n"
     ]
    }
   ],
   "source": [
    "#7. ¿Tienen a y b el mismo tamaño? ¿Cómo lo demuestras en código Python?\n",
    "# Verificar si tienen el mismo tamaño (misma forma)\n",
    "if a.shape == b.shape:\n",
    "    print(\"Sí, los arrays tienen el mismo tamaño. Lo demonstramos con la función shape.\")\n",
    "else:\n",
    "    print(\"No, los arrays tienen diferente tamaño.Lo demonstramos con la función shape.\")"
   ]
  },
  {
   "cell_type": "code",
   "execution_count": 10,
   "id": "e72c25f5",
   "metadata": {},
   "outputs": [
    {
     "name": "stdout",
     "output_type": "stream",
     "text": [
      "No es posible sumar a y b porque tiene formas distintas, como lo podemos verlo abajo:\n"
     ]
    },
    {
     "ename": "ValueError",
     "evalue": "operands could not be broadcast together with shapes (2,3,5) (5,2,3) ",
     "output_type": "error",
     "traceback": [
      "\u001b[1;31m---------------------------------------------------------------------------\u001b[0m",
      "\u001b[1;31mValueError\u001b[0m                                Traceback (most recent call last)",
      "Cell \u001b[1;32mIn[10], line 3\u001b[0m\n\u001b[0;32m      1\u001b[0m \u001b[38;5;66;03m#8. ¿Es posible sumar a y b? ¿Por qué sí o por qué no?\u001b[39;00m\n\u001b[0;32m      2\u001b[0m \u001b[38;5;28mprint\u001b[39m(\u001b[38;5;124m\"\u001b[39m\u001b[38;5;124mNo es posible sumar a y b porque tiene formas distintas, como lo podemos verlo abajo:\u001b[39m\u001b[38;5;124m\"\u001b[39m)\n\u001b[1;32m----> 3\u001b[0m \u001b[43ma\u001b[49m\u001b[43m \u001b[49m\u001b[38;5;241;43m+\u001b[39;49m\u001b[43m \u001b[49m\u001b[43mb\u001b[49m\n",
      "\u001b[1;31mValueError\u001b[0m: operands could not be broadcast together with shapes (2,3,5) (5,2,3) "
     ]
    }
   ],
   "source": [
    "#8. ¿Es posible sumar a y b? ¿Por qué sí o por qué no?\n",
    "print(\"No es posible sumar a y b porque tiene formas distintas, como lo podemos verlo abajo:\")\n",
    "a + b"
   ]
  },
  {
   "cell_type": "code",
   "execution_count": 11,
   "id": "928c7a23",
   "metadata": {},
   "outputs": [
    {
     "name": "stdout",
     "output_type": "stream",
     "text": [
      "Forma de b: (5, 2, 3)\n",
      "Forma de a: (2, 3, 5)\n",
      "Forma de c: (2, 3, 5)\n"
     ]
    }
   ],
   "source": [
    "#9. Transpone b para que tenga la misma estructura que a (es decir, se convierta en un array de 2x3x5). Asigna el array transpuesto a la variable \"c\".\n",
    "#[tu código aquí]\n",
    "print(\"Forma de b:\", b.shape)\n",
    "c = b.transpose(1, 2, 0)  # Transponer las dimensiones en el orden 1, 2, 0\n",
    "\n",
    "# Verificar las formas de a y c para asegurarnos de que ahora tienen la misma estructura\n",
    "print(\"Forma de a:\", a.shape)\n",
    "print(\"Forma de c:\", c.shape)"
   ]
  },
  {
   "cell_type": "code",
   "execution_count": 12,
   "id": "2e3b68de",
   "metadata": {},
   "outputs": [
    {
     "name": "stdout",
     "output_type": "stream",
     "text": [
      "[[[ 1.21395334  0.65074974  0.69912888  1.09288076  2.4987684 ]\n",
      "  [ 1.77808134  1.39428254  1.9495224   0.18488977 -0.8999916 ]\n",
      "  [ 2.10508414 -0.77624784 -0.1024902   2.79578769  1.65222096]]\n",
      "\n",
      " [[ 1.82040041  1.02374171  2.51051392  1.4210838   1.98899246]\n",
      "  [-0.468839    1.75880714  0.29466737  1.80477429  0.95120365]\n",
      "  [ 0.19677622  1.52293103  0.64313636  0.44341831 -0.14239843]]]\n",
      "\n",
      "Ahora sí que funciona porque a y c tienen la misma forma.\n"
     ]
    }
   ],
   "source": [
    "#10. Intenta sumar a y c. Ahora debería funcionar. Asigna la suma a la variable \"d\". Pero, ¿por qué funciona ahora?\n",
    "d = a + c\n",
    "print(d)\n",
    "print('\\nAhora sí que funciona porque a y c tienen la misma forma.')"
   ]
  },
  {
   "cell_type": "code",
   "execution_count": 13,
   "id": "be218a40",
   "metadata": {},
   "outputs": [
    {
     "name": "stdout",
     "output_type": "stream",
     "text": [
      "Esa es la matriz 'a': \n",
      " [[[ 0.21395334 -0.34925026 -0.30087112  0.09288076  1.4987684 ]\n",
      "  [ 0.77808134  0.39428254  0.9495224  -0.81511023 -1.8999916 ]\n",
      "  [ 1.10508414 -1.77624784 -1.1024902   1.79578769  0.65222096]]\n",
      "\n",
      " [[ 0.82040041  0.02374171  1.51051392  0.4210838   0.98899246]\n",
      "  [-1.468839    0.75880714 -0.70533263  0.80477429 -0.04879635]\n",
      "  [-0.80322378  0.52293103 -0.35686364 -0.55658169 -1.14239843]]]\n",
      "\n",
      "Esa es la matriz 'd': \n",
      " [[[ 1.21395334  0.65074974  0.69912888  1.09288076  2.4987684 ]\n",
      "  [ 1.77808134  1.39428254  1.9495224   0.18488977 -0.8999916 ]\n",
      "  [ 2.10508414 -0.77624784 -0.1024902   2.79578769  1.65222096]]\n",
      "\n",
      " [[ 1.82040041  1.02374171  2.51051392  1.4210838   1.98899246]\n",
      "  [-0.468839    1.75880714  0.29466737  1.80477429  0.95120365]\n",
      "  [ 0.19677622  1.52293103  0.64313636  0.44341831 -0.14239843]]]\n",
      "\n",
      "Hay diferencia en términos de valores porque las matriz 'd' es la suma de la matriz 'a' con la 'c'.\n"
     ]
    }
   ],
   "source": [
    "#11. Imprime a y d. ¿Notas la diferencia y la relación entre los dos arrays en términos de los valores? Explica.\n",
    "\n",
    "print(\"Esa es la matriz 'a': \\n\", a)\n",
    "\n",
    "print(\"\\nEsa es la matriz 'd': \\n\", d)\n",
    "print(\"\\nHay diferencia en términos de valores porque las matriz 'd' es la suma de la matriz 'a' con la 'c'.\")"
   ]
  },
  {
   "cell_type": "code",
   "execution_count": 14,
   "id": "cdf731d8",
   "metadata": {},
   "outputs": [
    {
     "data": {
      "text/plain": [
       "array([[[ 0.21395334, -0.34925026, -0.30087112,  0.09288076,\n",
       "          1.4987684 ],\n",
       "        [ 0.77808134,  0.39428254,  0.9495224 , -0.81511023,\n",
       "         -1.8999916 ],\n",
       "        [ 1.10508414, -1.77624784, -1.1024902 ,  1.79578769,\n",
       "          0.65222096]],\n",
       "\n",
       "       [[ 0.82040041,  0.02374171,  1.51051392,  0.4210838 ,\n",
       "          0.98899246],\n",
       "        [-1.468839  ,  0.75880714, -0.70533263,  0.80477429,\n",
       "         -0.04879635],\n",
       "        [-0.80322378,  0.52293103, -0.35686364, -0.55658169,\n",
       "         -1.14239843]]])"
      ]
     },
     "execution_count": 14,
     "metadata": {},
     "output_type": "execute_result"
    }
   ],
   "source": [
    "#12. Multiplica a y c. Asigna el resultado a e.\n",
    "\n",
    "e = a * c\n",
    "e"
   ]
  },
  {
   "cell_type": "code",
   "execution_count": 15,
   "id": "74af20c6",
   "metadata": {},
   "outputs": [
    {
     "name": "stdout",
     "output_type": "stream",
     "text": [
      "La matriz 'e', resultado de la multiplicación de la matriz 'a' con la matriz 'c', es igual a la matriz 'a' porque la matriz 'c' es formada apenas por ones. Y todos los numeros multiplicados por 1 resulta en si mismo.\n"
     ]
    }
   ],
   "source": [
    "#13. ¿Es e igual a a? ¿Por qué sí o por qué no?\n",
    "print(\"La matriz 'e', resultado de la multiplicación de la matriz 'a' con la matriz 'c', es igual a la matriz 'a' porque la matriz 'c' es formada apenas por ones. Y todos los numeros multiplicados por 1 resulta en si mismo.\")"
   ]
  },
  {
   "cell_type": "code",
   "execution_count": 16,
   "id": "15ebad67",
   "metadata": {},
   "outputs": [
    {
     "name": "stdout",
     "output_type": "stream",
     "text": [
      "Valor maximo:  2.795787690507114 \n",
      "Valor minimo:  -0.8999916048172796 \n",
      "Valor medio:  1.0668609852641562\n"
     ]
    }
   ],
   "source": [
    "#14. Identifica los valores máximos, mínimos y medios en d. Asigna esos valores a las variables \"d_max\", \"d_min\" y \"d_mean\"\n",
    "\n",
    "d_max = d.max()  \n",
    "d_min = d.min()\n",
    "d_mean = d.mean()\n",
    "\n",
    "print(\"Valor maximo: \", d_max, \"\\nValor minimo: \", d_min, \"\\nValor medio: \", d_mean)"
   ]
  },
  {
   "cell_type": "code",
   "execution_count": 17,
   "id": "baac3fcf",
   "metadata": {},
   "outputs": [
    {
     "name": "stdout",
     "output_type": "stream",
     "text": [
      "(2, 3, 5)\n"
     ]
    }
   ],
   "source": [
    "#15. Ahora queremos etiquetar los valores en d. Primero crea un array vacío \"f\" con la misma forma (es decir, 2x3x5) que d usando `np.empty`.\n",
    "print(d.shape) #comprobamos la forma del array d, ya que tenemos que crear un array f con una forma identica\n",
    "\n",
    "f = np.empty((2,3,5))"
   ]
  },
  {
   "cell_type": "code",
   "execution_count": 18,
   "id": "a347addf",
   "metadata": {},
   "outputs": [],
   "source": [
    "#16. Rellena los valores en f. Para cada valor en d, si es mayor que d_min pero menor que d_mean, asigna 25 al valor correspondiente en f.\n",
    "#Si un valor en d es mayor que d_mean pero menor que d_max, asigna 75 al valor correspondiente en f.\n",
    "#Si un valor es igual a d_mean, asigna 50 al valor correspondiente en f.\n",
    "#Asigna 0 al valor correspondiente(s) en f para d_min en d.\n",
    "#Asigna 100 al valor correspondiente(s) en f para d_max en d.\n",
    "#Al final, f debería tener solo los siguientes valores: 0, 25, 50, 75 y 100.\n",
    "#Nota: no necesitas usar Numpy en esta pregunta.\n",
    "\n",
    "# Paso 4: Rellenar f basado en las condiciones dadas\n",
    "for i in range(d.shape[0]):\n",
    "    for j in range(d.shape[1]):\n",
    "        for k in range(d.shape[2]):\n",
    "            if d[i, j, k] == d_min:\n",
    "                f[i, j, k] = 0\n",
    "            elif d[i, j, k] == d_max:\n",
    "                f[i, j, k] = 100\n",
    "            elif d[i, j, k] == d_mean:\n",
    "                f[i, j, k] = 50\n",
    "            elif d_min < d[i, j, k] < d_mean:\n",
    "                f[i, j, k] = 25\n",
    "            elif d_mean < d[i, j, k] < d_max:\n",
    "                f[i, j, k] = 75\n"
   ]
  },
  {
   "cell_type": "code",
   "execution_count": 22,
   "id": "99e34a98",
   "metadata": {},
   "outputs": [
    {
     "name": "stdout",
     "output_type": "stream",
     "text": [
      "Array d:\n",
      "[[[ 1.21395334  0.65074974  0.69912888  1.09288076  2.4987684 ]\n",
      "  [ 1.77808134  1.39428254  1.9495224   0.18488977 -0.8999916 ]\n",
      "  [ 2.10508414 -0.77624784 -0.1024902   2.79578769  1.65222096]]\n",
      "\n",
      " [[ 1.82040041  1.02374171  2.51051392  1.4210838   1.98899246]\n",
      "  [-0.468839    1.75880714  0.29466737  1.80477429  0.95120365]\n",
      "  [ 0.19677622  1.52293103  0.64313636  0.44341831 -0.14239843]]]\n",
      "\n",
      "Array f:\n",
      "[[[ 75.  25.  25.  75.  75.]\n",
      "  [ 75.  75.  75.  25.   0.]\n",
      "  [ 75.  25.  25. 100.  75.]]\n",
      "\n",
      " [[ 75.  25.  75.  75.  75.]\n",
      "  [ 25.  75.  25.  75.  25.]\n",
      "  [ 25.  75.  25.  25.  25.]]]\n"
     ]
    }
   ],
   "source": [
    "\"\"\"\"\n",
    "#17. Imprime d y f. ¿Tienes el f esperado? Por ejemplo, si tu d es: array([[[1.85836099, 1.67064465, 1.62576044, 1.40243961, 1.88454931], [1.75354326, 1.69403643, 1.36729252, 1.61415071, 1.12104981], [1.72201435, 1.1862918 , 1.87078449, 1.7726778 , 1.88180042]],\n",
    "\n",
    "   [[1.44747908, 1.31673383, 1.02000951, 1.52218947, 1.97066381],\n",
    "    [1.79129243, 1.74983003, 1.96028037, 1.85166831, 1.65450881],\n",
    "    [1.18068344, 1.9587381 , 1.00656599, 1.93402165, 1.73514584]]])\n",
    "Tu f debería ser: array([[[ 75., 75., 75., 25., 75.], [ 75., 75., 25., 25., 25.], [ 75., 25., 75., 75., 75.]],\n",
    "\n",
    "   [[ 25.,  25.,  25.,  25., 100.],\n",
    "    [ 75.,  75.,  75.,  75.,  75.],\n",
    "    [ 25.,  75.,   0.,  75.,  75.]]])\n",
    "    \n",
    "\"\"\"\n",
    "\n",
    "#[tu código aquí]\n",
    "# Imprimir los arrays d y f para ver el resultado\n",
    "print(\"Array d:\")\n",
    "print(d)\n",
    "print(\"\\nArray f:\")\n",
    "print(f)"
   ]
  },
  {
   "cell_type": "code",
   "execution_count": 23,
   "id": "85141eab",
   "metadata": {},
   "outputs": [
    {
     "name": "stdout",
     "output_type": "stream",
     "text": [
      "Sí, el array f tiene el resultado esperado, o sea, sólo apresenta resultados 0, 25, 50, 75 o 100.\n"
     ]
    }
   ],
   "source": [
    "print('Sí, el array f tiene el resultado esperado, o sea, sólo apresenta resultados 0, 25, 50, 75 o 100.')"
   ]
  },
  {
   "cell_type": "code",
   "execution_count": 25,
   "id": "3d342d0c",
   "metadata": {},
   "outputs": [
    {
     "name": "stdout",
     "output_type": "stream",
     "text": [
      "Array d:\n",
      "[[[ 1.21395334  0.65074974  0.69912888  1.09288076  2.4987684 ]\n",
      "  [ 1.77808134  1.39428254  1.9495224   0.18488977 -0.8999916 ]\n",
      "  [ 2.10508414 -0.77624784 -0.1024902   2.79578769  1.65222096]]\n",
      "\n",
      " [[ 1.82040041  1.02374171  2.51051392  1.4210838   1.98899246]\n",
      "  [-0.468839    1.75880714  0.29466737  1.80477429  0.95120365]\n",
      "  [ 0.19677622  1.52293103  0.64313636  0.44341831 -0.14239843]]]\n",
      "\n",
      "Array f:\n",
      "[[['D' 'B' 'B' 'D' 'D']\n",
      "  ['D' 'D' 'D' 'B' 'A']\n",
      "  ['D' 'B' 'B' 'E' 'D']]\n",
      "\n",
      " [['D' 'B' 'D' 'D' 'D']\n",
      "  ['B' 'D' 'B' 'D' 'B']\n",
      "  ['B' 'D' 'B' 'B' 'B']]]\n"
     ]
    }
   ],
   "source": [
    "\"\"\"\"\n",
    "#18. Pregunta de bonificación: en lugar de usar números (es decir, 0, 25, 50, 75 y 100), ¿cómo usar valores de cadena \n",
    "(\"A\", \"B\", \"C\", \"D\" y \"E\") para etiquetar los elementos del array? Esperas el resultado sea:\n",
    "array([[[ 'D',  'D',  'D',  'B',  'D'],\n",
    "        [ 'D',  'D',  'B',  'B',  'B'],\n",
    "        [ 'D',  'B',  'D',  'D',  'D']],\n",
    "\n",
    "       [[ 'B',  'B',  'B',  'B',  'E'],\n",
    "        [ 'D',  'D',  'D',  'D',  'D'],\n",
    "        [ 'B',  'D',   'A',  'D', 'D']]])\n",
    "De nuevo, no necesitas Numpy en esta pregunta.\n",
    "\"\"\"\n",
    "# Crear un array vacío f con la misma forma que d, pero de tipo string\n",
    "f = np.empty(d.shape, dtype=str)\n",
    "\n",
    "# Rellenar f basado en las condiciones dadas\n",
    "for i in range(d.shape[0]):\n",
    "    for j in range(d.shape[1]):\n",
    "        for k in range(d.shape[2]):\n",
    "            if d[i, j, k] == d_min:\n",
    "                f[i, j, k] = 'A'\n",
    "            elif d[i, j, k] == d_max:\n",
    "                f[i, j, k] = 'E'\n",
    "            elif d[i, j, k] == d_mean:\n",
    "                f[i, j, k] = 'C'\n",
    "            elif d_min < d[i, j, k] < d_mean:\n",
    "                f[i, j, k] = 'B'\n",
    "            elif d_mean < d[i, j, k] < d_max:\n",
    "                f[i, j, k] = 'D'\n",
    "\n",
    "# Imprimir los arrays d y f para ver el resultado\n",
    "print(\"Array d:\")\n",
    "print(d)\n",
    "print(\"\\nArray f:\")\n",
    "print(f)"
   ]
  },
  {
   "cell_type": "code",
   "execution_count": null,
   "id": "9de7799a",
   "metadata": {},
   "outputs": [],
   "source": []
  }
 ],
 "metadata": {
  "kernelspec": {
   "display_name": "Python 3 (ipykernel)",
   "language": "python",
   "name": "python3"
  },
  "language_info": {
   "codemirror_mode": {
    "name": "ipython",
    "version": 3
   },
   "file_extension": ".py",
   "mimetype": "text/x-python",
   "name": "python",
   "nbconvert_exporter": "python",
   "pygments_lexer": "ipython3",
   "version": "3.10.9"
  }
 },
 "nbformat": 4,
 "nbformat_minor": 5
}
