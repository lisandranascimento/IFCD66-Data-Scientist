{
 "cells": [
  {
   "cell_type": "markdown",
   "metadata": {},
   "source": [
    "# Antes de empezar:\n",
    "- Lee el archivo README.md\n",
    "- Comenta tanto como puedas y utiliza los recursos (archivo README.md)\n",
    "- ¡Feliz aprendizaje!"
   ]
  },
  {
   "cell_type": "code",
   "execution_count": 1,
   "metadata": {},
   "outputs": [],
   "source": [
    "# import numpy and pandas\n",
    "import pandas as pd\n",
    "import numpy as np\n",
    "from scipy.stats import trim_mean, mode, skew, gaussian_kde, pearsonr, spearmanr, beta\n",
    "from statsmodels.stats.weightstats import ztest as ztest\n",
    "\n",
    "from scipy.stats import ttest_ind, norm, t\n",
    "from scipy.stats import f_oneway\n",
    "from scipy.stats import sem"
   ]
  },
  {
   "cell_type": "markdown",
   "metadata": {},
   "source": [
    "# Reto 1 - Explorando los Datos\n",
    "\n",
    "En este reto, examinaremos todos los salarios de los empleados de la Ciudad de Chicago. Comenzaremos cargando el conjunto de datos y examinando su contenido."
   ]
  },
  {
   "cell_type": "code",
   "execution_count": 2,
   "metadata": {},
   "outputs": [],
   "source": [
    "# Run this code:\n",
    "salaries = pd.read_csv('Current_Employee_Names__Salaries__and_Position_Titles.csv')"
   ]
  },
  {
   "cell_type": "markdown",
   "metadata": {},
   "source": [
    "Examina el conjunto de datos `salaries` utilizando la función `head` que se muestra a continuación."
   ]
  },
  {
   "cell_type": "code",
   "execution_count": 3,
   "metadata": {},
   "outputs": [
    {
     "data": {
      "text/html": [
       "<div>\n",
       "<style scoped>\n",
       "    .dataframe tbody tr th:only-of-type {\n",
       "        vertical-align: middle;\n",
       "    }\n",
       "\n",
       "    .dataframe tbody tr th {\n",
       "        vertical-align: top;\n",
       "    }\n",
       "\n",
       "    .dataframe thead th {\n",
       "        text-align: right;\n",
       "    }\n",
       "</style>\n",
       "<table border=\"1\" class=\"dataframe\">\n",
       "  <thead>\n",
       "    <tr style=\"text-align: right;\">\n",
       "      <th></th>\n",
       "      <th>Name</th>\n",
       "      <th>Job Titles</th>\n",
       "      <th>Department</th>\n",
       "      <th>Full or Part-Time</th>\n",
       "      <th>Salary or Hourly</th>\n",
       "      <th>Typical Hours</th>\n",
       "      <th>Annual Salary</th>\n",
       "      <th>Hourly Rate</th>\n",
       "    </tr>\n",
       "  </thead>\n",
       "  <tbody>\n",
       "    <tr>\n",
       "      <th>0</th>\n",
       "      <td>AARON,  JEFFERY M</td>\n",
       "      <td>SERGEANT</td>\n",
       "      <td>POLICE</td>\n",
       "      <td>F</td>\n",
       "      <td>Salary</td>\n",
       "      <td>NaN</td>\n",
       "      <td>101442.0</td>\n",
       "      <td>NaN</td>\n",
       "    </tr>\n",
       "    <tr>\n",
       "      <th>1</th>\n",
       "      <td>AARON,  KARINA</td>\n",
       "      <td>POLICE OFFICER (ASSIGNED AS DETECTIVE)</td>\n",
       "      <td>POLICE</td>\n",
       "      <td>F</td>\n",
       "      <td>Salary</td>\n",
       "      <td>NaN</td>\n",
       "      <td>94122.0</td>\n",
       "      <td>NaN</td>\n",
       "    </tr>\n",
       "    <tr>\n",
       "      <th>2</th>\n",
       "      <td>AARON,  KIMBERLEI R</td>\n",
       "      <td>CHIEF CONTRACT EXPEDITER</td>\n",
       "      <td>GENERAL SERVICES</td>\n",
       "      <td>F</td>\n",
       "      <td>Salary</td>\n",
       "      <td>NaN</td>\n",
       "      <td>101592.0</td>\n",
       "      <td>NaN</td>\n",
       "    </tr>\n",
       "    <tr>\n",
       "      <th>3</th>\n",
       "      <td>ABAD JR,  VICENTE M</td>\n",
       "      <td>CIVIL ENGINEER IV</td>\n",
       "      <td>WATER MGMNT</td>\n",
       "      <td>F</td>\n",
       "      <td>Salary</td>\n",
       "      <td>NaN</td>\n",
       "      <td>110064.0</td>\n",
       "      <td>NaN</td>\n",
       "    </tr>\n",
       "    <tr>\n",
       "      <th>4</th>\n",
       "      <td>ABASCAL,  REECE E</td>\n",
       "      <td>TRAFFIC CONTROL AIDE-HOURLY</td>\n",
       "      <td>OEMC</td>\n",
       "      <td>P</td>\n",
       "      <td>Hourly</td>\n",
       "      <td>20.0</td>\n",
       "      <td>NaN</td>\n",
       "      <td>19.86</td>\n",
       "    </tr>\n",
       "  </tbody>\n",
       "</table>\n",
       "</div>"
      ],
      "text/plain": [
       "                  Name                              Job Titles  \\\n",
       "0    AARON,  JEFFERY M                                SERGEANT   \n",
       "1      AARON,  KARINA   POLICE OFFICER (ASSIGNED AS DETECTIVE)   \n",
       "2  AARON,  KIMBERLEI R                CHIEF CONTRACT EXPEDITER   \n",
       "3  ABAD JR,  VICENTE M                       CIVIL ENGINEER IV   \n",
       "4    ABASCAL,  REECE E             TRAFFIC CONTROL AIDE-HOURLY   \n",
       "\n",
       "         Department Full or Part-Time Salary or Hourly  Typical Hours  \\\n",
       "0            POLICE                 F           Salary            NaN   \n",
       "1            POLICE                 F           Salary            NaN   \n",
       "2  GENERAL SERVICES                 F           Salary            NaN   \n",
       "3       WATER MGMNT                 F           Salary            NaN   \n",
       "4              OEMC                 P           Hourly           20.0   \n",
       "\n",
       "   Annual Salary  Hourly Rate  \n",
       "0       101442.0          NaN  \n",
       "1        94122.0          NaN  \n",
       "2       101592.0          NaN  \n",
       "3       110064.0          NaN  \n",
       "4            NaN        19.86  "
      ]
     },
     "execution_count": 3,
     "metadata": {},
     "output_type": "execute_result"
    }
   ],
   "source": [
    "# Your code here\n",
    "salaries.head()"
   ]
  },
  {
   "cell_type": "code",
   "execution_count": 4,
   "metadata": {},
   "outputs": [
    {
     "data": {
      "text/plain": [
       "Index(['Name', 'Job Titles', 'Department', 'Full or Part-Time',\n",
       "       'Salary or Hourly', 'Typical Hours', 'Annual Salary', 'Hourly Rate'],\n",
       "      dtype='object')"
      ]
     },
     "execution_count": 4,
     "metadata": {},
     "output_type": "execute_result"
    }
   ],
   "source": [
    "salaries.columns\n"
   ]
  },
  {
   "cell_type": "markdown",
   "metadata": {},
   "source": [
    "# Reto 2 - Pruebas de Hipótesis\n",
    "\n",
    "En esta sección del laboratorio, vamos a probar si el salario por hora de todos los trabajadores por hora es significativamente diferente de $30/hora. Importa la función correcta para la prueba de una muestra desde scipy y realiza la prueba de hipótesis para un intervalo de confianza de dos lados del 95%."
   ]
  },
  {
   "cell_type": "code",
   "execution_count": 5,
   "metadata": {},
   "outputs": [
    {
     "name": "stdout",
     "output_type": "stream",
     "text": [
      "                        Name                              Job Titles  \\\n",
      "0          AARON,  JEFFERY M                                SERGEANT   \n",
      "1            AARON,  KARINA   POLICE OFFICER (ASSIGNED AS DETECTIVE)   \n",
      "2        AARON,  KIMBERLEI R                CHIEF CONTRACT EXPEDITER   \n",
      "3        ABAD JR,  VICENTE M                       CIVIL ENGINEER IV   \n",
      "4          ABASCAL,  REECE E             TRAFFIC CONTROL AIDE-HOURLY   \n",
      "...                      ...                                     ...   \n",
      "33178  ZYLINSKA,  KATARZYNA                           POLICE OFFICER   \n",
      "33179     ZYMANTAS,  LAURA C                          POLICE OFFICER   \n",
      "33180      ZYMANTAS,  MARK E                          POLICE OFFICER   \n",
      "33181    ZYRKOWSKI,  CARLO E                          POLICE OFFICER   \n",
      "33182   ZYSKOWSKI,  DARIUSZ                  CHIEF DATA BASE ANALYST   \n",
      "\n",
      "             Department Full or Part-Time Salary or Hourly  Typical Hours  \\\n",
      "0                POLICE                 F           Salary            NaN   \n",
      "1                POLICE                 F           Salary            NaN   \n",
      "2      GENERAL SERVICES                 F           Salary            NaN   \n",
      "3           WATER MGMNT                 F           Salary            NaN   \n",
      "4                  OEMC                 P           Hourly           20.0   \n",
      "...                 ...               ...              ...            ...   \n",
      "33178            POLICE                 F           Salary            NaN   \n",
      "33179            POLICE                 F           Salary            NaN   \n",
      "33180            POLICE                 F           Salary            NaN   \n",
      "33181            POLICE                 F           Salary            NaN   \n",
      "33182              DoIT                 F           Salary            NaN   \n",
      "\n",
      "       Annual Salary  Hourly Rate  Salario por Hora Calculado  \n",
      "0           101442.0          NaN                   48.770192  \n",
      "1            94122.0          NaN                   45.250962  \n",
      "2           101592.0          NaN                   48.842308  \n",
      "3           110064.0          NaN                   52.915385  \n",
      "4                NaN        19.86                   19.860000  \n",
      "...              ...          ...                         ...  \n",
      "33178        72510.0          NaN                   34.860577  \n",
      "33179        48078.0          NaN                   23.114423  \n",
      "33180        90024.0          NaN                   43.280769  \n",
      "33181        93354.0          NaN                   44.881731  \n",
      "33182       115932.0          NaN                   55.736538  \n",
      "\n",
      "[33183 rows x 9 columns]\n"
     ]
    }
   ],
   "source": [
    "# Función para calcular salario por hora\n",
    "def calcular_salario_por_hora(row):\n",
    "    if row['Salary or Hourly'] == 'Salary':\n",
    "        annual_salary = row['Annual Salary']\n",
    "        if pd.notna(annual_salary):\n",
    "            return annual_salary / 2080  # considerando 52 semanas en un año y 40 horas por semana.\n",
    "        else:\n",
    "            return None\n",
    "    elif row['Salary or Hourly'] == 'Hourly':\n",
    "        return row['Hourly Rate']\n",
    "    else:\n",
    "        return None\n",
    "\n",
    "# Aplicar la función a cada fila del DataFrame\n",
    "salaries['Salario por Hora Calculado'] = salaries.apply(calcular_salario_por_hora, axis=1)\n",
    "\n",
    "# Mostrar el resultado\n",
    "print(salaries)"
   ]
  },
  {
   "cell_type": "code",
   "execution_count": 6,
   "metadata": {},
   "outputs": [
    {
     "name": "stdout",
     "output_type": "stream",
     "text": [
      "Name                              0\n",
      "Job Titles                        0\n",
      "Department                        0\n",
      "Full or Part-Time                 0\n",
      "Salary or Hourly                  0\n",
      "Typical Hours                 25161\n",
      "Annual Salary                  8022\n",
      "Hourly Rate                   25161\n",
      "Salario por Hora Calculado        0\n",
      "dtype: int64\n"
     ]
    }
   ],
   "source": [
    "print(salaries.isnull().sum())"
   ]
  },
  {
   "cell_type": "code",
   "execution_count": 7,
   "metadata": {},
   "outputs": [
    {
     "name": "stdout",
     "output_type": "stream",
     "text": [
      "Estadístico t: 154.1767\n",
      "Valor p: 0.0000\n",
      "Se rechaza la hipótesis nula: El salario por hora es significativamente diferente de $30/hora.\n"
     ]
    }
   ],
   "source": [
    "# Your code here\n",
    "from scipy.stats import ttest_1samp\n",
    "\n",
    "# Parámetro bajo prueba (valor de referencia)\n",
    "valor_referencia = 30\n",
    "\n",
    "# Extraer los datos de la columna creada\n",
    "salarios_por_hora = salaries['Salario por Hora Calculado']\n",
    "\n",
    "# Realizar la prueba de hipótesis de una muestra (two-sided)\n",
    "t_statistic, p_valor = ttest_1samp(salarios_por_hora, valor_referencia)\n",
    "\n",
    "# Imprimir resultados\n",
    "print(f\"Estadístico t: {t_statistic:.4f}\")\n",
    "print(f\"Valor p: {p_valor:.4f}\")\n",
    "\n",
    "# Interpretar los resultados\n",
    "alpha = 0.05  # Nivel de significancia\n",
    "if p_valor < alpha:\n",
    "    print(\"Se rechaza la hipótesis nula: El salario por hora es significativamente diferente de $30/hora.\")\n",
    "else:\n",
    "    print(\"No se puede rechazar la hipótesis nula: No hay suficiente evidencia para concluir que el salario por hora es diferente de $30/hora.\")\n"
   ]
  },
  {
   "cell_type": "markdown",
   "metadata": {},
   "source": [
    "# Reto 3 - Construyendo Intervalos de Confianza\n",
    "\n",
    "Aunque probar nuestra hipótesis es una excelente manera de obtener evidencia empírica para aceptar o rechazar la hipótesis, otra forma de recopilar evidencia es creando un intervalo de confianza. Un intervalo de confianza nos brinda información sobre la media verdadera de la población. Por lo tanto, para un intervalo de confianza del 95%, estamos seguros en un 95% de que la media de la población se encuentra dentro del intervalo de confianza.\n",
    "\n",
    "Para leer más sobre los intervalos de confianza, haz clic [aquí](https://es.wikipedia.org/wiki/Intervalo_de_confianza).\n",
    "\n",
    "En la celda a continuación, construiremos un intervalo de confianza del 95% para el salario por hora medio de todos los trabajadores por hora.\n",
    "\n",
    "El intervalo de confianza se calcula en SciPy utilizando la función `t.interval`. Puedes leer más sobre esta función [aquí](https://docs.scipy.org/doc/scipy-0.14.0/reference/generated/scipy.stats.t.html).\n",
    "\n",
    "Para calcular el intervalo de confianza del salario por hora, usa 0.95 para el nivel de confianza, el número de filas - 1 para los grados de libertad, la media de la muestra para el parámetro de ubicación y el error estándar para la escala. El error estándar se puede calcular utilizando [esta](https://docs.scipy.org/doc/scipy/reference/generated/scipy.stats.sem.html) función en SciPy."
   ]
  },
  {
   "cell_type": "code",
   "execution_count": 8,
   "metadata": {},
   "outputs": [
    {
     "name": "stdout",
     "output_type": "stream",
     "text": [
      "Intervalo de Confianza del 95% para el salario por hora medio:\n",
      "(39.44, 39.69)\n"
     ]
    }
   ],
   "source": [
    "# Your code here\n",
    "from scipy import stats\n",
    "\n",
    "# Calcular la media muestral y el error estándar de la media muestral\n",
    "media_muestral = np.mean(salarios_por_hora)\n",
    "std_error = stats.sem(salarios_por_hora)\n",
    "\n",
    "# Calcular el intervalo de confianza del 95% utilizando t.interval\n",
    "confidence_level = 0.95\n",
    "degrees_freedom = len(salarios_por_hora) - 1\n",
    "\n",
    "intervalo_confianza = stats.t.interval(confidence_level, df=degrees_freedom, loc=media_muestral, scale=std_error)\n",
    "\n",
    "# Mostrar el resultado\n",
    "print(f\"Intervalo de Confianza del 95% para el salario por hora medio:\")\n",
    "print(f\"({intervalo_confianza[0]:.2f}, {intervalo_confianza[1]:.2f})\")\n"
   ]
  },
  {
   "cell_type": "markdown",
   "metadata": {},
   "source": [
    "# Reto 4 - Pruebas de Hipótesis de Proporciones\n",
    "\n",
    "Otro tipo de prueba de una muestra es una prueba de hipótesis de proporciones. En esta prueba, examinamos si la proporción de un grupo en nuestra muestra es significativamente diferente de una fracción.\n",
    "\n",
    "Puedes leer más sobre las pruebas de proporción de una muestra [aquí](http://sphweb.bumc.bu.edu/otlt/MPH-Modules/BS/SAS/SAS6-CategoricalData/SAS6-CategoricalData2.html).\n",
    "\n",
    "En la celda a continuación, utiliza la función `proportions_ztest` de `statsmodels` para realizar una prueba de hipótesis que determinará si el número de trabajadores por hora en la Ciudad de Chicago es significativamente diferente del 25% en el nivel de confianza del 95%."
   ]
  },
  {
   "cell_type": "code",
   "execution_count": 9,
   "metadata": {},
   "outputs": [
    {
     "name": "stdout",
     "output_type": "stream",
     "text": [
      "Estadístico Z: -3.5100\n",
      "Valor p: 0.0004\n",
      "Se rechaza la hipótesis nula: La proporción de trabajadores por hora es significativamente diferente del 25%.\n"
     ]
    }
   ],
   "source": [
    "# Your code here\n",
    "from statsmodels.stats.proportion import proportions_ztest\n",
    "\n",
    "# Calcular el número de trabajadores por hora (éxitos) y el tamaño de la muestra\n",
    "num_success = salaries['Salary or Hourly'].value_counts()['Hourly']\n",
    "total_workers = len(salaries)\n",
    "\n",
    "# Parámetros para la prueba de proporciones\n",
    "null_proportion = 0.25  # Proporción bajo la hipótesis nula (25%)\n",
    "alpha = 0.05  # Nivel de significancia del 95%\n",
    "\n",
    "# Realizar la prueba de proporciones usando proportions_ztest\n",
    "z_stat, p_value = proportions_ztest(num_success, total_workers, null_proportion)\n",
    "\n",
    "# Imprimir resultados\n",
    "print(f\"Estadístico Z: {z_stat:.4f}\")\n",
    "print(f\"Valor p: {p_value:.4f}\")\n",
    "\n",
    "# Interpretar los resultados\n",
    "if p_value < alpha:\n",
    "    print(\"Se rechaza la hipótesis nula: La proporción de trabajadores por hora es significativamente diferente del 25%.\")\n",
    "else:\n",
    "    print(\"No se puede rechazar la hipótesis nula: No hay suficiente evidencia para concluir que la proporción de trabajadores por hora es diferente del 25%.\")\n"
   ]
  },
  {
   "cell_type": "code",
   "execution_count": null,
   "metadata": {},
   "outputs": [],
   "source": []
  }
 ],
 "metadata": {
  "kernelspec": {
   "display_name": "Python 3 (ipykernel)",
   "language": "python",
   "name": "python3"
  },
  "language_info": {
   "codemirror_mode": {
    "name": "ipython",
    "version": 3
   },
   "file_extension": ".py",
   "mimetype": "text/x-python",
   "name": "python",
   "nbconvert_exporter": "python",
   "pygments_lexer": "ipython3",
   "version": "3.10.9"
  }
 },
 "nbformat": 4,
 "nbformat_minor": 2
}
