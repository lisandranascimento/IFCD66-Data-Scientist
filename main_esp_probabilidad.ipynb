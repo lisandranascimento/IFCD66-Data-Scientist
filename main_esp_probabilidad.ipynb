{
 "cells": [
  {
   "cell_type": "markdown",
   "metadata": {},
   "source": [
    "# Probability"
   ]
  },
  {
   "cell_type": "markdown",
   "metadata": {},
   "source": [
    "## Reto 1\n",
    "Hay una caja con 10 bolas blancas, 12 bolas rojas y 8 bolas negras. Calcula la probabilidad de:\n",
    "* Sacar una bola blanca.\n",
    "* Sacar una bola blanca en la primera extracción y una bola negra en la segunda extracción sin reemplazar la primera.\n",
    "* Sacar una bola blanca en la primera extracción y una bola negra en la segunda extracción reemplazando la primera.\n",
    "* Sacar 3 bolas y que sean todas de diferentes colores."
   ]
  },
  {
   "cell_type": "code",
   "execution_count": 1,
   "metadata": {},
   "outputs": [
    {
     "name": "stdout",
     "output_type": "stream",
     "text": [
      "Probabilidad de sacar una bola blanca: 0.33\n",
      "Probabilidad de sacar una bola blanca y luego una negra sin reemplazo: 0.0920\n",
      "Probabilidad de sacar una bola blanca y luego una negra con reemplazo: 0.0889\n",
      "Probabilidad de sacar 3 bolas de diferentes colores: 0.2133\n"
     ]
    }
   ],
   "source": [
    "# YOUR CODE HERE\n",
    "import numpy as np\n",
    "\n",
    "# Datos iniciales\n",
    "bolas_blancas = 10\n",
    "bolas_rojas = 12\n",
    "bolas_negras = 8\n",
    "total_bolas = bolas_blancas + bolas_rojas + bolas_negras\n",
    "\n",
    "# Probabilidad de sacar una bola blanca\n",
    "prob_blanca = bolas_blancas / total_bolas\n",
    "print(f\"Probabilidad de sacar una bola blanca: {prob_blanca:.2f}\")\n",
    "\n",
    "# Probabilidad de sacar una bola blanca en la primera extracción\n",
    "# y una bola negra en la segunda extracción sin reemplazar la primera\n",
    "prob_blanca_primera_negra_segunda = (bolas_blancas / total_bolas) * (bolas_negras / (total_bolas - 1))\n",
    "print(f\"Probabilidad de sacar una bola blanca y luego una negra sin reemplazo: {prob_blanca_primera_negra_segunda:.4f}\")\n",
    "\n",
    "# Probabilidad de sacar una bola blanca en la primera extracción\n",
    "# y una bola negra en la segunda extracción reemplazando la primera\n",
    "prob_blanca_primera_negra_segunda_reemplazo = (bolas_blancas / total_bolas) * (bolas_negras / total_bolas)\n",
    "print(f\"Probabilidad de sacar una bola blanca y luego una negra con reemplazo: {prob_blanca_primera_negra_segunda_reemplazo:.4f}\")\n",
    "\n",
    "# Probabilidad de sacar 3 bolas y que sean todas de diferentes colores\n",
    "# Calculamos las combinaciones posibles y las probabilidades de cada caso\n",
    "combinaciones = np.array([\n",
    "    [bolas_blancas, bolas_rojas, bolas_negras],\n",
    "    [bolas_blancas, bolas_negras, bolas_rojas],\n",
    "    [bolas_rojas, bolas_blancas, bolas_negras],\n",
    "    [bolas_rojas, bolas_negras, bolas_blancas],\n",
    "    [bolas_negras, bolas_blancas, bolas_rojas],\n",
    "    [bolas_negras, bolas_rojas, bolas_blancas]\n",
    "])\n",
    "\n",
    "total_combinaciones = np.sum(combinaciones, axis=1)\n",
    "probabilidades = np.prod(combinaciones / total_bolas, axis=1)\n",
    "\n",
    "prob_3_diferentes_colores = np.sum(total_combinaciones / total_bolas * probabilidades)\n",
    "print(f\"Probabilidad de sacar 3 bolas de diferentes colores: {prob_3_diferentes_colores:.4f}\")\n"
   ]
  },
  {
   "cell_type": "markdown",
   "metadata": {},
   "source": [
    "## Reto 2\n",
    "\n",
    "Quieres ir de picnic el sábado. Odias la lluvia y quieres planificar tu fin de semana. Para ayudarte a tomar una decisión, recopilas los siguientes datos sobre los días lluviosos:\n",
    "\n",
    "* El 40% de todos los días están nublados.\n",
    "* Aproximadamente el 50% de los días nublados son lluviosos.\n",
    "* Aproximadamente el 20% de los días no nublados son lluviosos.\n",
    "\n",
    "¿Cuál es la probabilidad de que llueva el próximo sábado?"
   ]
  },
  {
   "cell_type": "code",
   "execution_count": 2,
   "metadata": {},
   "outputs": [
    {
     "name": "stdout",
     "output_type": "stream",
     "text": [
      "La probabilidad de que llueva el próximo sábado es: 0.32\n"
     ]
    }
   ],
   "source": [
    "# YOUR CODE HERE\n",
    "# Datos proporcionados\n",
    "P_N = 0.40  # Probabilidad de que el sábado esté nublado\n",
    "P_L_given_N = 0.50  # Probabilidad de lluvia dado que es un día nublado\n",
    "P_L_given_not_N = 0.20  # Probabilidad de lluvia dado que no es un día nublado\n",
    "\n",
    "# Calcular la probabilidad de que llueva el próximo sábado usando el teorema de Bayes\n",
    "P_L = P_L_given_N * P_N + P_L_given_not_N * (1 - P_N)\n",
    "\n",
    "# Imprimir el resultado\n",
    "print(f\"La probabilidad de que llueva el próximo sábado es: {P_L:.2f}\")\n"
   ]
  },
  {
   "cell_type": "markdown",
   "metadata": {},
   "source": [
    "## Reto 3\n",
    "\n",
    "A y B son eventos de una probabilidad tal que \\(P(A) = 0.3\\), \\(P(B) = 0.6\\) y \\(P(A \\cap B) = 0.1\\)\n",
    "\n",
    "¿Cuáles de las siguientes afirmaciones son verdaderas?\n",
    "**SUGERENCIA: dibuja un gran diagrama de Venn a tu lado**\n",
    "* \\(P(\\overline{A}) = 0.7\\)\n",
    "* \\(P(A \\cup B) = 0.6\\)\n",
    "* \\(P(A \\cap \\overline{B}) = 0.2\\)\n",
    "* \\(P(A \\cup \\overline{A}) = 1\\)  \n",
    "* \\(P(A \\cap (B \\cup \\overline{B})) = 0.4\\)\n",
    "* \\(P(\\overline{A} \\cap \\overline{B}) = 0.3\\)\n",
    "* \\(P(\\overline{A \\cap B}) = 0.9\\)"
   ]
  },
  {
   "cell_type": "code",
   "execution_count": 7,
   "metadata": {},
   "outputs": [
    {
     "name": "stdout",
     "output_type": "stream",
     "text": [
      "Verificación de las afirmaciones:\n",
      "P(¬A) = 0.7: Correcta\n",
      "P(A ∪ B) = 0.6: Incorrecta\n",
      "P(A ∩ ¬B) = 0.2: Correcta\n",
      "P(A ∪ ¬A) = 1: Correcta\n",
      "P(A ∩ (B ∪ ¬B)) = 0.4: Incorrecta\n",
      "P(¬A ∩ ¬B) = 0.3: Incorrecta\n",
      "P(¬(A ∩ B)) = 0.9: Correcta\n"
     ]
    }
   ],
   "source": [
    "# YOUR CODE HERE\n",
    "# Datos proporcionados\n",
    "P_A = 0.3\n",
    "P_B = 0.6\n",
    "P_A_intersect_B = 0.1\n",
    "\n",
    "# Calcular probabilidades complementarias y otras combinaciones\n",
    "P_not_A = 1 - P_A\n",
    "P_not_B = 1 - P_B\n",
    "P_A_union_B = P_A + P_B - P_A_intersect_B\n",
    "P_A_intersect_not_B = P_A - P_A_intersect_B\n",
    "P_A_union_not_A = 1  # P(A ∪ ¬A) siempre es 1\n",
    "P_A_intersect_B_union_not_B = P_A_intersect_B + P_A_intersect_not_B\n",
    "P_not_A_intersect_not_B = 1 - P_A_intersect_B\n",
    "\n",
    "# Verificar las afirmaciones\n",
    "afirmaciones = [\n",
    "    (\"P(¬A) = 0.7\", round(P_not_A, 1) == 0.7),\n",
    "    (\"P(A ∪ B) = 0.6\", round(P_A_union_B, 1) == 0.6),\n",
    "    (\"P(A ∩ ¬B) = 0.2\", round(P_A_intersect_not_B, 1) == 0.2),\n",
    "    (\"P(A ∪ ¬A) = 1\", P_A_union_not_A == 1),\n",
    "    (\"P(A ∩ (B ∪ ¬B)) = 0.4\", round(P_A_intersect_B_union_not_B, 1) == 0.4),\n",
    "    (\"P(¬A ∩ ¬B) = 0.3\", round(P_not_A_intersect_not_B, 1) == 0.3),\n",
    "    (\"P(¬(A ∩ B)) = 0.9\", round(1 - P_A_intersect_B, 1) == 0.9)\n",
    "]\n",
    "\n",
    "# Mostrar resultados\n",
    "print(\"Verificación de las afirmaciones:\")\n",
    "for afirmacion, es_correcta in afirmaciones:\n",
    "    resultado = \"Correcta\" if es_correcta else \"Incorrecta\"\n",
    "    print(f\"{afirmacion}: {resultado}\")\n",
    "\n"
   ]
  },
  {
   "cell_type": "markdown",
   "metadata": {},
   "source": [
    "## Reto 4\n",
    "\n",
    "* Si alguien viaja a China, la probabilidad de contraer Covid es del 1%\n",
    "* Si alguien viaja a Italia, la probabilidad de contraer Covid es del 20%\n",
    "\n",
    "Lanzo un dado con números 1, 2, 3, 4, 5, 6:\n",
    "* Si sale 1: Vuelo a Italia\n",
    "* Si no sale 1: Vuelo a China\n",
    "\n",
    "Durante mi viaje, contraje Covid. ¿Cuál es la probabilidad de que haya volado a China?"
   ]
  },
  {
   "cell_type": "code",
   "execution_count": 5,
   "metadata": {},
   "outputs": [
    {
     "name": "stdout",
     "output_type": "stream",
     "text": [
      "La probabilidad de que haya volado a China dado que contrajo Covid es: 0.2000\n"
     ]
    }
   ],
   "source": [
    "# YOUR CODE HERE\n",
    "# Datos proporcionados\n",
    "P_C_given_I = 0.20  # Probabilidad de contraer Covid si viajó a Italia\n",
    "P_C_given_Ch = 0.01  # Probabilidad de contraer Covid si viajó a China\n",
    "P_I = 1/6  # Probabilidad de volar a Italia\n",
    "P_Ch = 5/6  # Probabilidad de volar a China\n",
    "\n",
    "# Calcular P(C) usando la ley de probabilidad total\n",
    "P_C = P_C_given_I * P_I + P_C_given_Ch * P_Ch\n",
    "\n",
    "# Calcular P(Ch | C) usando el teorema de Bayes\n",
    "P_Ch_given_C = (P_C_given_Ch * P_Ch) / P_C\n",
    "\n",
    "# Imprimir el resultado\n",
    "print(f\"La probabilidad de que haya volado a China dado que contrajo Covid es: {P_Ch_given_C:.4f}\")\n"
   ]
  },
  {
   "cell_type": "markdown",
   "metadata": {},
   "source": [
    "## BONUS\n",
    "\n",
    "Lanzas 2 dados. ¿Cuál es la probabilidad de que la suma de los números sea 7? ¿Y 8? ¿Y 9? Luego simula 10000 veces y dibuja un gráfico de conteo.\n",
    "\n",
    "tu explicación aquí"
   ]
  },
  {
   "cell_type": "code",
   "execution_count": 6,
   "metadata": {},
   "outputs": [
    {
     "name": "stdout",
     "output_type": "stream",
     "text": [
      "Probabilidad de suma igual a 7: 0.1647\n",
      "Probabilidad de suma igual a 8: 0.1364\n",
      "Probabilidad de suma igual a 9: 0.1075\n"
     ]
    },
    {
     "data": {
      "image/png": "[encoded data removed]",
      "text/plain": [
       "<Figure size 800x500 with 1 Axes>"
      ]
     },
     "metadata": {},
     "output_type": "display_data"
    }
   ],
   "source": [
    "# YOUR CODE HERE\n",
    "import matplotlib.pyplot as plt\n",
    "import numpy as np\n",
    "\n",
    "# Función para simular el lanzamiento de dos dados y contar la suma\n",
    "def simular_dados(n_simulaciones):\n",
    "    resultados = np.random.randint(1, 7, size=(n_simulaciones, 2))\n",
    "    sumas = np.sum(resultados, axis=1)\n",
    "    return sumas\n",
    "\n",
    "# Número de simulaciones\n",
    "n_simulaciones = 10000\n",
    "\n",
    "# Simular lanzamiento de dados y contar sumas\n",
    "sumas = simular_dados(n_simulaciones)\n",
    "suma_7 = np.sum(sumas == 7)\n",
    "suma_8 = np.sum(sumas == 8)\n",
    "suma_9 = np.sum(sumas == 9)\n",
    "\n",
    "# Probabilidades estimadas\n",
    "prob_7 = suma_7 / n_simulaciones\n",
    "prob_8 = suma_8 / n_simulaciones\n",
    "prob_9 = suma_9 / n_simulaciones\n",
    "\n",
    "print(f\"Probabilidad de suma igual a 7: {prob_7:.4f}\")\n",
    "print(f\"Probabilidad de suma igual a 8: {prob_8:.4f}\")\n",
    "print(f\"Probabilidad de suma igual a 9: {prob_9:.4f}\")\n",
    "\n",
    "# Graficar conteo de sumas\n",
    "conteo = [suma_7, suma_8, suma_9]\n",
    "etiquetas = ['Suma 7', 'Suma 8', 'Suma 9']\n",
    "\n",
    "plt.figure(figsize=(8, 5))\n",
    "plt.bar(etiquetas, conteo, color='skyblue')\n",
    "plt.xlabel('Suma de los números')\n",
    "plt.ylabel('Frecuencia')\n",
    "plt.title('Conteo de sumas de dos dados (10000 simulaciones)')\n",
    "plt.show()\n"
   ]
  },
  {
   "cell_type": "code",
   "execution_count": null,
   "metadata": {},
   "outputs": [],
   "source": []
  }
 ],
 "metadata": {
  "kernelspec": {
   "display_name": "Python 3 (ipykernel)",
   "language": "python",
   "name": "python3"
  },
  "language_info": {
   "codemirror_mode": {
    "name": "ipython",
    "version": 3
   },
   "file_extension": ".py",
   "mimetype": "text/x-python",
   "name": "python",
   "nbconvert_exporter": "python",
   "pygments_lexer": "ipython3",
   "version": "3.10.9"
  },
  "toc": {
   "base_numbering": 1,
   "nav_menu": {},
   "number_sections": false,
   "sideBar": true,
   "skip_h1_title": false,
   "title_cell": "Table of Contents",
   "title_sidebar": "Contents",
   "toc_cell": false,
   "toc_position": {
    "height": "calc(100% - 180px)",
    "left": "10px",
    "top": "150px",
    "width": "296.475px"
   },
   "toc_section_display": true,
   "toc_window_display": false
  },
  "varInspector": {
   "cols": {
    "lenName": 16,
    "lenType": 16,
    "lenVar": 40
   },
   "kernels_config": {
    "python": {
     "delete_cmd_postfix": "",
     "delete_cmd_prefix": "del ",
     "library": "var_list.py",
     "varRefreshCmd": "print(var_dic_list())"
    },
    "r": {
     "delete_cmd_postfix": ") ",
     "delete_cmd_prefix": "rm(",
     "library": "var_list.r",
     "varRefreshCmd": "cat(var_dic_list()) "
    }
   },
   "types_to_exclude": [
    "module",
    "function",
    "builtin_function_or_method",
    "instance",
    "_Feature"
   ],
   "window_display": false
  }
 },
 "nbformat": 4,
 "nbformat_minor": 2
}
