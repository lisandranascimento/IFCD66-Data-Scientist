{
 "cells": [
  {
   "cell_type": "markdown",
   "metadata": {},
   "source": [
    "# Functions"
   ]
  },
  {
   "cell_type": "markdown",
   "metadata": {},
   "source": [
    "En este laboratorio pondremos en práctica algunos de los conceptos que hemos aprendido en los últimos días.\n",
    "\n",
    "`NOTA: En este laboratorio deberías intentar escribir todas las funciones por ti mismo utilizando solo la sintaxis más básica de Python y sin funciones como len, count, sum, max, min, in, etc. Dale una oportunidad. 🧑🏻‍💻👩🏻‍💻`\n",
    "\n",
    "La celda después de cada ejercicio contiene algunas pruebas para verificar si tu función funciona como se espera."
   ]
  },
  {
   "cell_type": "code",
   "execution_count": 1,
   "metadata": {},
   "outputs": [
    {
     "name": "stdout",
     "output_type": "stream",
     "text": [
      "Requirement already satisfied: mod in c:\\users\\lisan\\anaconda3\\lib\\site-packages (0.3.0)\n",
      "Note: you may need to restart the kernel to use updated packages.\n"
     ]
    }
   ],
   "source": [
    "pip install mod"
   ]
  },
  {
   "cell_type": "code",
   "execution_count": 2,
   "metadata": {},
   "outputs": [],
   "source": [
    "from mod import *\n",
    "import unittest"
   ]
  },
  {
   "cell_type": "code",
   "execution_count": 3,
   "metadata": {},
   "outputs": [
    {
     "name": "stdout",
     "output_type": "stream",
     "text": [
      "No he podido instalar el paquete unittest.\n"
     ]
    }
   ],
   "source": [
    "print(\"No he podido instalar el paquete unittest.\")"
   ]
  },
  {
   "cell_type": "markdown",
   "metadata": {},
   "source": [
    "## 1. Escribe una función que devuelva el mayor de dos números"
   ]
  },
  {
   "cell_type": "code",
   "execution_count": 4,
   "metadata": {},
   "outputs": [],
   "source": [
    "def greater(a,b):\n",
    "  if a >= b:\n",
    "    return a\n",
    "  else:\n",
    "    return b"
   ]
  },
  {
   "cell_type": "code",
   "execution_count": 5,
   "metadata": {},
   "outputs": [
    {
     "data": {
      "text/plain": [
       "6"
      ]
     },
     "execution_count": 5,
     "metadata": {},
     "output_type": "execute_result"
    }
   ],
   "source": [
    "greater(5,6)"
   ]
  },
  {
   "cell_type": "markdown",
   "metadata": {},
   "source": [
    "## 2. Ahora escribe una función que devuelva el elemento más"
   ]
  },
  {
   "cell_type": "code",
   "execution_count": 6,
   "metadata": {},
   "outputs": [
    {
     "name": "stdout",
     "output_type": "stream",
     "text": [
      "No he entendido lo que quiere el ejercicio.\n"
     ]
    }
   ],
   "source": [
    "#tu codigo aquí\n",
    "print(\"No he entendido lo que quiere el ejercicio.\")"
   ]
  },
  {
   "cell_type": "code",
   "execution_count": 7,
   "metadata": {},
   "outputs": [
    {
     "name": "stdout",
     "output_type": "stream",
     "text": [
      "No he entendido lo que quiere el ejercicio.\n"
     ]
    }
   ],
   "source": [
    "# Para testear tu función\n",
    "#test_greatest(greatest)\n",
    "print(\"No he entendido lo que quiere el ejercicio.\")"
   ]
  },
  {
   "cell_type": "markdown",
   "metadata": {},
   "source": [
    "## 3. Escribe una función que sume todos los elementos de una lista"
   ]
  },
  {
   "cell_type": "code",
   "execution_count": 8,
   "metadata": {},
   "outputs": [],
   "source": [
    "def sum_all(lst):\n",
    "#tu codigo aquí\n",
    "\n",
    "  if not isinstance(lst, list):\n",
    "    raise TypeError(\"El argumento debe ser una lista.\")\n",
    "\n",
    "  if len(lst) == 0:\n",
    "    return 0\n",
    "\n",
    "  total = 0\n",
    "  for elemento in lst:\n",
    "    if not isinstance(elemento, (int, float)):\n",
    "      raise TypeError(\"La lista solo puede contener números.\")\n",
    "    total += elemento\n",
    "\n",
    "  return total"
   ]
  },
  {
   "cell_type": "code",
   "execution_count": 9,
   "metadata": {
    "scrolled": true
   },
   "outputs": [
    {
     "data": {
      "text/plain": [
       "15"
      ]
     },
     "execution_count": 9,
     "metadata": {},
     "output_type": "execute_result"
    }
   ],
   "source": [
    "# Para testear tu función\n",
    "lst = [1, 2, 3, 4, 5]\n",
    "sum_all(lst)"
   ]
  },
  {
   "cell_type": "markdown",
   "metadata": {},
   "source": [
    "## 4. Escribe otra función que multiplique todos los elementos de una lista"
   ]
  },
  {
   "cell_type": "code",
   "execution_count": 10,
   "metadata": {},
   "outputs": [],
   "source": [
    "def mult_all(lst):\n",
    "#tu codigo aquí\n",
    "  if not isinstance(lst, list):\n",
    "    raise TypeError(\"El argumento debe ser una lista.\")\n",
    "\n",
    "  if len(lst) == 0:\n",
    "    return 1\n",
    "\n",
    "  total = 1\n",
    "    \n",
    "  for elemento in lst:\n",
    "    if not isinstance(elemento, (int, float)):\n",
    "      raise TypeError(\"La lista solo puede contener números.\")\n",
    "    total *= elemento\n",
    "\n",
    "  return total"
   ]
  },
  {
   "cell_type": "code",
   "execution_count": 11,
   "metadata": {
    "scrolled": true
   },
   "outputs": [
    {
     "data": {
      "text/plain": [
       "120"
      ]
     },
     "execution_count": 11,
     "metadata": {},
     "output_type": "execute_result"
    }
   ],
   "source": [
    "# Para testear tu función\n",
    "lst = [1, 2, 3, 4, 5]\n",
    "mult_all(lst)"
   ]
  },
  {
   "cell_type": "markdown",
   "metadata": {},
   "source": [
    "## 5. Ahora combina esas dos ideas y escribe una función que reciba una lista y ya sea \"+\" o \"*\", y produzca el resultado acorde"
   ]
  },
  {
   "cell_type": "code",
   "execution_count": 12,
   "metadata": {},
   "outputs": [],
   "source": [
    "def oper_all(arr, oper = \"*\"):\n",
    "#tu codigo aquí\n",
    "\n",
    "  if not isinstance(arr, list):\n",
    "    raise TypeError(\"El argumento 'lista' debe ser una lista.\")\n",
    "\n",
    "  if len(arr) == 0:\n",
    "    raise ValueError(\"La lista no puede estar vacía.\")\n",
    "\n",
    "  if not isinstance(oper, str):\n",
    "    raise TypeError(\"El argumento 'oper' debe ser una cadena de texto.\")\n",
    "\n",
    "  if oper not in \"+*\":\n",
    "    raise ValueError(\"La operación debe ser '+' o '*'.\")\n",
    "\n",
    "  resultado = arr[0]\n",
    "  for elemento in arr[1:]:\n",
    "    if oper == \"+\":\n",
    "      resultado += elemento\n",
    "    elif oper == \"*\":\n",
    "      resultado *= elemento\n",
    "    else:\n",
    "      raise NotImplementedError(f\"Operación '{oper}' no implementada.\")\n",
    "\n",
    "  return resultado"
   ]
  },
  {
   "cell_type": "code",
   "execution_count": 13,
   "metadata": {},
   "outputs": [
    {
     "name": "stdout",
     "output_type": "stream",
     "text": [
      "Resultado suma:  15\n",
      "Resultado_mult:  120\n"
     ]
    }
   ],
   "source": [
    "# Para testear tu función\n",
    "arr = [1, 2, 3, 4, 5]\n",
    "\n",
    "resultado_suma = oper_all(arr, \"+\")\n",
    "print(\"Resultado suma: \", resultado_suma)\n",
    "\n",
    "resultado_suma = oper_all(arr, \"*\")\n",
    "print(\"Resultado_mult: \", resultado_suma)"
   ]
  },
  {
   "cell_type": "markdown",
   "metadata": {},
   "source": [
    "## 6. Escribe una función que devuelva el factorial de un número."
   ]
  },
  {
   "cell_type": "code",
   "execution_count": 14,
   "metadata": {},
   "outputs": [],
   "source": [
    "def factorial(n):\n",
    "#tu codigo aquí\n",
    "\n",
    "  if not isinstance(n, int):\n",
    "    raise TypeError(\"El argumento debe ser un número entero.\")\n",
    "\n",
    "  if n < 0:\n",
    "    raise ValueError(\"El argumento debe ser un número entero no negativo.\")\n",
    "\n",
    "  if n == 0:\n",
    "    return 1\n",
    "\n",
    "  factorial = 1\n",
    "  for i in range(1, n + 1):\n",
    "    factorial *= i\n",
    "\n",
    "  return factorial"
   ]
  },
  {
   "cell_type": "code",
   "execution_count": 15,
   "metadata": {},
   "outputs": [],
   "source": [
    "# Fórmula factorial\n",
    "# n! = n * (n - 1) *...*1\n",
    "\n",
    "# Este código define una función llamada \"factorial\" que toma una entrada \"n\". La función utiliza un bucle for para iterar a través del rango de números\n",
    "# desde 1 hasta n+1. Para cada número en ese rango, multiplica el valor actual de x por el número en el rango. Al final del bucle,\n",
    "# la función devuelve el valor final de x, que será el factorial del número de entrada \"n\".\n",
    "\n",
    "# El factorial de un entero positivo n es el producto de todos los enteros positivos menores o iguales a n.\n",
    "# Por ejemplo, el factorial de 6 (escrito \"6!\") es 6 * 5 * 4 * 3 * 2 * 1 = 720.\n",
    "\n",
    "# Así que esta función toma una entrada de cualquier entero positivo y devuelve el factorial de ese número."
   ]
  },
  {
   "cell_type": "code",
   "execution_count": 16,
   "metadata": {},
   "outputs": [
    {
     "name": "stdout",
     "output_type": "stream",
     "text": [
      "El factorial de 5 es:  120\n"
     ]
    }
   ],
   "source": [
    "# This will test your function \n",
    "print(\"El factorial de 5 es: \", factorial(5))"
   ]
  },
  {
   "cell_type": "markdown",
   "metadata": {},
   "source": [
    "## 7. Escribe una función que tome una lista y devuelva una lista de los valores únicos.\n",
    "\n",
    "`NOTE: No podemos usar set. 🤔`"
   ]
  },
  {
   "cell_type": "code",
   "execution_count": 26,
   "metadata": {},
   "outputs": [],
   "source": [
    "def unique(lst):\n",
    "    \n",
    "    # Diccionario para almacenar valores únicos y su primera aparición\n",
    "    unicos = {}\n",
    "    for elemento in lst:\n",
    "        if elemento not in unicos:\n",
    "            unicos[elemento] = True\n",
    "\n",
    "    # Lista para almacenar valores únicos en el orden de aparición original\n",
    "    unique = []\n",
    "    for elemento in lst:\n",
    "        if unicos[elemento]:\n",
    "            unique.append(elemento)\n",
    "            unicos[elemento] = False  # Marcar como visitado\n",
    "\n",
    "    return unique\n",
    " "
   ]
  },
  {
   "cell_type": "code",
   "execution_count": 27,
   "metadata": {},
   "outputs": [
    {
     "name": "stdout",
     "output_type": "stream",
     "text": [
      "[1, 2, 3, 4, 5]\n"
     ]
    }
   ],
   "source": [
    "# Para testear tu función \n",
    "print(unique([1, 2, 2, 3, 4, 4, 5])) "
   ]
  },
  {
   "cell_type": "markdown",
   "metadata": {},
   "source": [
    "## 8. Escribe una función que devuelva la moda de una lista, es decir: el elemento que aparece más veces.\n",
    "\n",
    "`NOTE: No se debe usar count... 🧐`"
   ]
  },
  {
   "cell_type": "code",
   "execution_count": 36,
   "metadata": {},
   "outputs": [],
   "source": [
    "def moda_counter(arr):\n",
    "    \n",
    "    # Diccionario para almacenar la frecuencia de cada elemento\n",
    "    frecuencia = {}\n",
    "    \n",
    "    # Contar la frecuencia de cada elemento en la lista\n",
    "    for elemento in arr:\n",
    "        if elemento in frecuencia:\n",
    "            frecuencia[elemento] += 1\n",
    "        else:\n",
    "            frecuencia[elemento] = 1\n",
    "    \n",
    "    # Encontrar el elemento con la mayor frecuencia\n",
    "    moda_counter = None\n",
    "    max_frecuencia = 0\n",
    "    for elemento, freq in frecuencia.items():\n",
    "        if freq > max_frecuencia:\n",
    "            max_frecuencia = freq\n",
    "            moda_counter = elemento\n",
    "    \n",
    "    return moda_counter"
   ]
  },
  {
   "cell_type": "code",
   "execution_count": 37,
   "metadata": {},
   "outputs": [
    {
     "name": "stdout",
     "output_type": "stream",
     "text": [
      "4\n"
     ]
    }
   ],
   "source": [
    "# Para testear tu función \n",
    "print(moda_counter([1, 2, 2, 3, 4, 4, 4, 5])) "
   ]
  },
  {
   "cell_type": "markdown",
   "metadata": {},
   "source": [
    "## 9. Escribe una función que calcule la desviación estándar de una lista.\n",
    "`NOTE: no utilices librerías ni ninguna función ya construida. 😉`"
   ]
  },
  {
   "cell_type": "code",
   "execution_count": 39,
   "metadata": {},
   "outputs": [],
   "source": [
    "def st_dev(list_sd):\n",
    "#tu codigo aquí\n",
    "   \n",
    "    # Calcular la media\n",
    "    suma = 0\n",
    "    for num in list_sd:\n",
    "        suma += num\n",
    "    media = suma / len(list_sd)\n",
    "    \n",
    "    # Calcular la suma de los cuadrados de las diferencias con respecto a la media\n",
    "    suma_cuadrados = 0\n",
    "    for num in list_sd:\n",
    "        suma_cuadrados += (num - media) ** 2\n",
    "    \n",
    "    # Calcular la varianza\n",
    "    varianza = suma_cuadrados / len(list_sd)\n",
    "    \n",
    "    # Calcular la desviación estándar (raíz cuadrada de la varianza)\n",
    "    desviacion_estandar = varianza ** 0.5\n",
    "    \n",
    "    return desviacion_estandar"
   ]
  },
  {
   "cell_type": "code",
   "execution_count": 40,
   "metadata": {},
   "outputs": [
    {
     "name": "stdout",
     "output_type": "stream",
     "text": [
      "1.4142135623730951\n"
     ]
    }
   ],
   "source": [
    "# Para testear tu función\n",
    "print(st_dev([1, 2, 3, 4, 5]))"
   ]
  },
  {
   "cell_type": "markdown",
   "metadata": {},
   "source": [
    "## 10. Escribe una función para verificar si una cadena es un pangrama, es decir: si contiene todas las letras del alfabeto al menos una vez. Ten en cuenta que las cadenas pueden contener caracteres que no son letras."
   ]
  },
  {
   "cell_type": "code",
   "execution_count": 41,
   "metadata": {},
   "outputs": [],
   "source": [
    "def pangram(string):\n",
    "#tu codigo aquí\n",
    "\n",
    "    # Definir el conjunto de todas las letras del alfabeto en minúsculas\n",
    "    alfabeto = set('abcdefghijklmnopqrstuvwxyz')\n",
    "    \n",
    "    # Crear un conjunto para almacenar las letras encontradas en la cadena\n",
    "    letras_encontradas = set()\n",
    "    \n",
    "    # Recorrer cada caracter en la cadena\n",
    "    for caracter in string:\n",
    "        # Convertir el caracter a minúscula y verificar si es una letra\n",
    "        if caracter.isalpha():\n",
    "            letras_encontradas.add(caracter.lower())\n",
    "    \n",
    "    # Verificar si el conjunto de letras encontradas contiene todas las letras del alfabeto\n",
    "    return letras_encontradas >= alfabeto"
   ]
  },
  {
   "cell_type": "code",
   "execution_count": 50,
   "metadata": {},
   "outputs": [
    {
     "name": "stdout",
     "output_type": "stream",
     "text": [
      "Un ejemplo clásico de un pangrama es 'La cigüeña tocaba cada vez mejor el saxofón y el búho pedía kiwi y queso':  True\n",
      "La frase que no es un pangram 'Esto no es un pangram':  False\n"
     ]
    }
   ],
   "source": [
    "# Para testear tu función\n",
    "print(\"Un ejemplo clásico de un pangrama es 'La cigüeña tocaba cada vez mejor el saxofón y el búho pedía kiwi y queso': \", pangram(\"La cigüeña tocaba cada vez mejor el saxofón y el búho pedía kiwi y queso\"))  \n",
    "print(\"La frase que no es un pangram 'Esto no es un pangram': \", pangram(\"Frase que no es un pangrama\"))  "
   ]
  },
  {
   "cell_type": "markdown",
   "metadata": {},
   "source": [
    "## 11. Escribe una función que reciba una cadena de palabras separadas por comas y devuelva una cadena de palabras separadas por comas ordenadas alfabéticamente.\n",
    "\n",
    "`NOTA: Puedes usar sorted pero no split y definitivamente no join! 🤪`"
   ]
  },
  {
   "cell_type": "code",
   "execution_count": 51,
   "metadata": {},
   "outputs": [],
   "source": [
    "#tu codigo aquí\n",
    "\n",
    "def sort_alpha(string):\n",
    "    # Crear una lista para almacenar las palabras\n",
    "    palabras = []\n",
    "    \n",
    "    # Variable temporal para construir las palabras\n",
    "    palabra_actual = \"\"\n",
    "    \n",
    "    # Recorrer cada caracter de la cadena\n",
    "    for caracter in string:\n",
    "        if caracter == ',':\n",
    "            # Cuando encontramos una coma, añadimos la palabra actual a la lista\n",
    "            palabras.append(palabra_actual)\n",
    "            palabra_actual = \"\"\n",
    "        else:\n",
    "            # Si no es una coma, añadimos el caracter a la palabra actual\n",
    "            palabra_actual += caracter\n",
    "    \n",
    "    # No olvidarse de añadir la última palabra (no terminada por coma)\n",
    "    palabras.append(palabra_actual)\n",
    "    \n",
    "    # Ordenar la lista de palabras\n",
    "    palabras_ordenadas = sorted(palabras)\n",
    "    \n",
    "    # Construir la cadena de salida manualmente\n",
    "    resultado = \"\"\n",
    "    for i in range(len(palabras_ordenadas)):\n",
    "        resultado += palabras_ordenadas[i]\n",
    "        if i < len(palabras_ordenadas) - 1:\n",
    "            resultado += ','\n",
    "    \n",
    "    return resultado"
   ]
  },
  {
   "cell_type": "code",
   "execution_count": 52,
   "metadata": {},
   "outputs": [
    {
     "name": "stdout",
     "output_type": "stream",
     "text": [
      "kiwi,manzana,pera,plátano\n"
     ]
    }
   ],
   "source": [
    "# Para testear tu función \n",
    "print(sort_alpha(\"pera,manzana,plátano,kiwi\"))"
   ]
  },
  {
   "cell_type": "markdown",
   "metadata": {},
   "source": [
    "## 12. Escribe una función para verificar si una contraseña dada es fuerte (al menos 8 caracteres, al menos una minúscula, al menos una mayúscula, al menos un número y al menos un carácter especial). Debería devolver True si es fuerte y False si no lo es."
   ]
  },
  {
   "cell_type": "code",
   "execution_count": 53,
   "metadata": {},
   "outputs": [],
   "source": [
    "#tu codigo aquí\n",
    "\n",
    "def check_pass(password):\n",
    "    # Verificar longitud mínima de 8 caracteres\n",
    "    if len(password) < 8:\n",
    "        return False\n",
    "    \n",
    "    # Inicializar banderas para cada tipo de carácter\n",
    "    tiene_minuscula = False\n",
    "    tiene_mayuscula = False\n",
    "    tiene_numero = False\n",
    "    tiene_especial = False\n",
    "    \n",
    "    # Definir los caracteres especiales\n",
    "    caracteres_especiales = \"!@#$%^&*()-_=+[]{}|;:',.<>?/`~\\\"\\\\\"\n",
    "    \n",
    "    # Recorrer cada caracter en la contraseña\n",
    "    for caracter in password:\n",
    "        if caracter.islower():\n",
    "            tiene_minuscula = True\n",
    "        elif caracter.isupper():\n",
    "            tiene_mayuscula = True\n",
    "        elif caracter.isdigit():\n",
    "            tiene_numero = True\n",
    "        elif caracter in caracteres_especiales:\n",
    "            tiene_especial = True\n",
    "        \n",
    "        # Si ya hemos encontrado todos los tipos, podemos parar\n",
    "        if tiene_minuscula and tiene_mayuscula and tiene_numero and tiene_especial:\n",
    "            return True\n",
    "    \n",
    "    # Verificar si se encontraron todos los tipos de caracteres necesarios\n",
    "    return tiene_minuscula and tiene_mayuscula and tiene_numero and tiene_especial"
   ]
  },
  {
   "cell_type": "code",
   "execution_count": 56,
   "metadata": {},
   "outputs": [
    {
     "name": "stdout",
     "output_type": "stream",
     "text": [
      "True\n",
      "False\n",
      "False\n",
      "False\n",
      "False\n"
     ]
    }
   ],
   "source": [
    "# Para testear tu función\n",
    "print(check_pass(\"Aa1!aaaa\")) \n",
    "print(check_pass(\"Aa1!\"))  \n",
    "print(check_pass(\"Aa1aaaaa\")) \n",
    "print(check_pass(\"Aa!aaaaa\")) \n",
    "print(check_pass(\"Aa1aaaaa\"))  "
   ]
  },
  {
   "cell_type": "code",
   "execution_count": null,
   "metadata": {},
   "outputs": [],
   "source": []
  }
 ],
 "metadata": {
  "kernelspec": {
   "display_name": "Python 3 (ipykernel)",
   "language": "python",
   "name": "python3"
  },
  "language_info": {
   "codemirror_mode": {
    "name": "ipython",
    "version": 3
   },
   "file_extension": ".py",
   "mimetype": "text/x-python",
   "name": "python",
   "nbconvert_exporter": "python",
   "pygments_lexer": "ipython3",
   "version": "3.10.9"
  },
  "vscode": {
   "interpreter": {
    "hash": "aee8b7b246df8f9039afb4144a1f6fd8d2ca17a180786b69acc140d282b71a49"
   }
  }
 },
 "nbformat": 4,
 "nbformat_minor": 4
}
